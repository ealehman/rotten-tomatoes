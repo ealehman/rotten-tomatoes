{
 "metadata": {
  "name": ""
 },
 "nbformat": 3,
 "nbformat_minor": 0,
 "worksheets": [
  {
   "cells": [
    {
     "cell_type": "markdown",
     "metadata": {},
     "source": [
      "# Homework 3. Bayesian Tomatoes"
     ]
    },
    {
     "cell_type": "markdown",
     "metadata": {},
     "source": [
      "Due Thursday, October 17, 11:59pm"
     ]
    },
    {
     "cell_type": "markdown",
     "metadata": {},
     "source": [
      "<div class=\"banner-container\">\n",
      "<img src=\"http://content7.flixster.com/movie/11/16/81/11168101_det.jpg\" width=180>\n",
      "</div>\n",
      "\n",
      "<div class=\"banner-container\">\n",
      "<img src=\"http://content6.flixster.com/movie/11/15/15/11151508_det.jpg\" width=180>\n",
      "</div>\n",
      "\n",
      "<div class=\"banner-container\">\n",
      "<img src=\"http://content9.flixster.com/movie/11/16/61/11166199_det.jpg\" width=180>\n",
      "</div>\n",
      "\n",
      "<div class=\"clear\"> </div>\n",
      "\n",
      "<style type=\"text/css\">\n",
      ".banner-container {\n",
      "height:350px;\n",
      "margin-left: 30px;\n",
      "float:left;\n",
      "}\n",
      ".clear {\n",
      "clear:both;\n",
      "}\n",
      "</style>"
     ]
    },
    {
     "cell_type": "markdown",
     "metadata": {},
     "source": [
      "In this assignment, you'll be analyzing movie reviews from [Rotten Tomatoes](http://www.rottentomatoes.com). This assignment will cover:\n",
      "\n",
      " * Working with web APIs\n",
      " * Making and interpreting predictions from a Bayesian perspective\n",
      " * Using the Naive Bayes algorithm to predict whether a movie review is positive or negative\n",
      " * Using cross validation to optimize models\n",
      "\n",
      "Useful libraries for this assignment\n",
      "\n",
      "* [numpy](http://docs.scipy.org/doc/numpy-dev/user/index.html), for arrays\n",
      "* [scikit-learn](http://scikit-learn.org/stable/), for machine learning\n",
      "* [json](http://docs.python.org/2/library/json.html) for parsing JSON data from the web.\n",
      "* [pandas](http://pandas.pydata.org/), for data frames\n",
      "* [matplotlib](http://matplotlib.org/), for plotting\n",
      "* [requests](http://docs.python-requests.org/en/latest/), for downloading web content"
     ]
    },
    {
     "cell_type": "code",
     "collapsed": false,
     "input": [
      "%matplotlib inline\n",
      "\n",
      "import json\n",
      "\n",
      "import requests\n",
      "import pandas as pd\n",
      "import numpy as np\n",
      "import matplotlib.pyplot as plt\n",
      "import shlex\n",
      "import math\n",
      "\n",
      "pd.set_option('display.width', 500)\n",
      "pd.set_option('display.max_columns', 30)\n",
      "\n",
      "# set some nicer defaults for matplotlib\n",
      "from matplotlib import rcParams\n",
      "\n",
      "#these colors come from colorbrewer2.org. Each is an RGB triplet\n",
      "dark2_colors = [(0.10588235294117647, 0.6196078431372549, 0.4666666666666667),\n",
      "                (0.8509803921568627, 0.37254901960784315, 0.00784313725490196),\n",
      "                (0.4588235294117647, 0.4392156862745098, 0.7019607843137254),\n",
      "                (0.9058823529411765, 0.1607843137254902, 0.5411764705882353),\n",
      "                (0.4, 0.6509803921568628, 0.11764705882352941),\n",
      "                (0.9019607843137255, 0.6705882352941176, 0.00784313725490196),\n",
      "                (0.6509803921568628, 0.4627450980392157, 0.11372549019607843),\n",
      "                (0.4, 0.4, 0.4)]\n",
      "\n",
      "rcParams['figure.figsize'] = (10, 6)\n",
      "rcParams['figure.dpi'] = 150\n",
      "rcParams['axes.color_cycle'] = dark2_colors\n",
      "rcParams['lines.linewidth'] = 2\n",
      "rcParams['axes.grid'] = False\n",
      "rcParams['axes.facecolor'] = 'white'\n",
      "rcParams['font.size'] = 14\n",
      "rcParams['patch.edgecolor'] = 'none'\n",
      "\n",
      "\n",
      "def remove_border(axes=None, top=False, right=False, left=True, bottom=True):\n",
      "    \"\"\"\n",
      "    Minimize chartjunk by stripping out unnecessary plot borders and axis ticks\n",
      "    \n",
      "    The top/right/left/bottom keywords toggle whether the corresponding plot border is drawn\n",
      "    \"\"\"\n",
      "    ax = axes or plt.gca()\n",
      "    ax.spines['top'].set_visible(top)\n",
      "    ax.spines['right'].set_visible(right)\n",
      "    ax.spines['left'].set_visible(left)\n",
      "    ax.spines['bottom'].set_visible(bottom)\n",
      "    \n",
      "    #turn off all ticks\n",
      "    ax.yaxis.set_ticks_position('none')\n",
      "    ax.xaxis.set_ticks_position('none')\n",
      "    \n",
      "    #now re-enable visibles\n",
      "    if top:\n",
      "        ax.xaxis.tick_top()\n",
      "    if bottom:\n",
      "        ax.xaxis.tick_bottom()\n",
      "    if left:\n",
      "        ax.yaxis.tick_left()\n",
      "    if right:\n",
      "        ax.yaxis.tick_right()"
     ],
     "language": "python",
     "metadata": {},
     "outputs": [],
     "prompt_number": 1
    },
    {
     "cell_type": "markdown",
     "metadata": {},
     "source": [
      "## Introduction\n",
      "\n",
      "Rotten Tomatoes gathers movie reviews from critics. An [entry on the website](http://www.rottentomatoes.com/m/primer/reviews/?type=top_critics) typically consists of a short quote, a link to the full review, and a Fresh/Rotten classification which summarizes whether the critic liked/disliked the movie.\n",
      "\n",
      "\n",
      "When critics give quantitative ratings (say 3/4 stars, Thumbs up, etc.), determining the Fresh/Rotten classification is easy. However, publications like the New York Times don't assign numerical ratings to movies, and thus the Fresh/Rotten classification must be inferred from the text of the review itself.\n",
      "\n",
      "This basic task of categorizing text has many applications. All of the following questions boil down to text classification:\n",
      "\n",
      " * Is a movie review positive or negative?\n",
      " * Is an email spam, or not?\n",
      " * Is a comment on a blog discussion board appropriate, or not?\n",
      " * Is a tweet about your company positive, or not?\n",
      " \n",
      "\n",
      "Language is incredibly nuanced, and there is an entire field of computer science dedicated to the topic (Natural Language Processing). Nevertheless, we can construct basic language models using fairly straightforward techniques. \n",
      "\n",
      "## The Data\n",
      "\n",
      "You will be starting with a database of Movies, derived from the MovieLens dataset. This dataset includes information for about 10,000 movies, including the IMDB id for each movie. \n",
      "\n",
      "Your first task is to download Rotten Tomatoes reviews from 3000 of these movies, using the Rotten Tomatoes API (Application Programming Interface)."
     ]
    },
    {
     "cell_type": "markdown",
     "metadata": {},
     "source": [
      "### Working with Web APIs\n",
      "Web APIs are a more convenient way for programs to interact with websites. Rotten Tomatoes has a nice API that gives access to its data in JSON format.\n",
      "\n",
      "To use this, you will first need to [register for an API key](http://developer.rottentomatoes.com/member/register). For \"application URL\", you can use anything -- it doesn't matter.\n",
      "\n",
      "After you have a key, the [documentation page](http://developer.rottentomatoes.com/iodocs) shows the various data you can fetch from Rotten Tomatoes -- each type of data lives at a different web address. The basic pattern for fetching this data with Python is as follows (compare this to the `Movie Reviews` tab on the documentation page):"
     ]
    },
    {
     "cell_type": "code",
     "collapsed": false,
     "input": [
      "api_key = 'xwcad7uj5uqtze4enx4mrtkk'\n",
      "movie_id = '770672122'  # toy story 3\n",
      "url = 'http://api.rottentomatoes.com/api/public/v1.0/movies/%s/reviews.json' % movie_id\n",
      "\n",
      "#these are \"get parameters\"\n",
      "options = {'review_type': 'top_critic', 'page_limit': 20, 'page': 1, 'apikey': api_key}\n",
      "data = requests.get(url, params=options).text\n",
      "data = json.loads(data)  # load a json string into a collection of lists and dicts\n"
     ],
     "language": "python",
     "metadata": {},
     "outputs": [],
     "prompt_number": 2
    },
    {
     "cell_type": "markdown",
     "metadata": {},
     "source": [
      "## Part 1: Get the data\n",
      "Here's a chunk of the MovieLens Dataset:"
     ]
    },
    {
     "cell_type": "code",
     "collapsed": false,
     "input": [
      "from io import StringIO  \n",
      "movie_txt = requests.get('https://raw.github.com/cs109/cs109_data/master/movies.dat').text\n",
      "movie_file = StringIO(movie_txt) # treat a string like a file\n",
      "movies = pd.read_csv(movie_file, delimiter='\\t')\n",
      "\n",
      "#print the first row\n",
      "movies[['id', 'title', 'imdbID', 'year']].irow(0)\n"
     ],
     "language": "python",
     "metadata": {},
     "outputs": [
      {
       "metadata": {},
       "output_type": "pyout",
       "prompt_number": 3,
       "text": [
        "id                1\n",
        "title     Toy story\n",
        "imdbID       114709\n",
        "year           1995\n",
        "Name: 0, dtype: object"
       ]
      }
     ],
     "prompt_number": 3
    },
    {
     "cell_type": "markdown",
     "metadata": {},
     "source": [
      "#### P1.1\n",
      "\n",
      "We'd like you to write a function that looks up the first 20 Top Critic Rotten Tomatoes reviews for a movie in the `movies` dataframe. This involves two steps:\n",
      "\n",
      "1. Use the `Movie Alias` API to look up the Rotten Tomatoes movie id from the IMDB id\n",
      "1. Use the `Movie Reviews` API to fetch the first 20 top-critic reviews for this movie\n",
      "\n",
      "Not all movies have Rotten Tomatoes IDs. In these cases, your function should return `None`. The detailed spec is below. We are giving you some freedom with how you implement this, but you'll probably want to break this task up into several small functions.\n",
      "\n",
      "**Hint**\n",
      "In some situations, the leading 0s in front of IMDB ids are important. IMDB ids have 7 digits"
     ]
    },
    {
     "cell_type": "code",
     "collapsed": true,
     "input": [
      "\"\"\"\n",
      "Function\n",
      "--------\n",
      "fetch_reviews(movies, row)\n",
      "\n",
      "Use the Rotten Tomatoes web API to fetch reviews for a particular movie\n",
      "\n",
      "Parameters\n",
      "----------\n",
      "movies : DataFrame \n",
      "  The movies data above\n",
      "row : int\n",
      "  The row of the movies DataFrame to use\n",
      "  \n",
      "Returns\n",
      "-------\n",
      "If you can match the IMDB id to a Rotten Tomatoes ID:\n",
      "  A DataFrame, containing the first 20 Top Critic reviews \n",
      "  for the movie. If a movie has less than 20 total reviews, return them all.\n",
      "  This should have the following columns:\n",
      "    critic : Name of the critic\n",
      "    fresh  : 'fresh' or 'rotten'\n",
      "    imdb   : IMDB id for the movie\n",
      "    publication: Publication that the critic writes for\n",
      "    quote  : string containing the movie review quote\n",
      "    review_data: Date of review\n",
      "    rtid   : Rotten Tomatoes ID for the movie\n",
      "    title  : Name of the movie\n",
      "    \n",
      "If you cannot match the IMDB id to a Rotten Tomatoes ID, return None\n",
      "\n",
      "Examples\n",
      "--------\n",
      ">>> reviews = fetch_reviews(movies, 0)\n",
      ">>> print len(reviews)\n",
      "20\n",
      ">>> print reviews.irow(1)\n",
      "critic                                               Derek Adams\n",
      "fresh                                                      fresh\n",
      "imdb                                                      114709\n",
      "publication                                             Time Out\n",
      "quote          So ingenious in concept, design and execution ...\n",
      "review_date                                           2009-10-04\n",
      "rtid                                                        9559\n",
      "title                                                  Toy story\n",
      "Name: 1, dtype: object\n",
      "\"\"\"\n",
      "\n",
      "# get imdb id from movies dataframe\n",
      "def get_id(dataframe, row):\n",
      "    tmp = dataframe['imdbID'].irow(row)\n",
      "    final_id = \"%07d\" % tmp \n",
      "    return final_id\n",
      "# get rtid id from rotten tomatoes API\n",
      "def get_rtid(movie_id):\n",
      "    url = \"http://api.rottentomatoes.com/api/public/v1.0/movie_alias.json?id=%s&type=imdb&apikey=xwcad7uj5uqtze4enx4mrtkk\" % movie_id\n",
      "    options = {'id': movie_id, 'type':'imdb', 'apikey': api_key}\n",
      "    data = requests.get(url,params = options).text\n",
      "    data = json.loads(data)\n",
      "    try:\n",
      "        rtid = json.dumps(data['id'])\n",
      "    except (KeyError):\n",
      "        return None\n",
      "    return rtid\n",
      "\n",
      "def get_title(dataframe, row):\n",
      "    return dataframe['title'].irow(row)\n",
      "\n",
      "\n",
      "    \n",
      "#get reviews from rotten tomatoes API\n",
      "def fetch_reviews(dataframe, row):\n",
      "    movie_id = get_id(dataframe, row)\n",
      "    api_key = 'xwcad7uj5uqtze4enx4mrtkk'\n",
      "    \n",
      "    rtid = get_rtid(movie_id)\n",
      "    url = 'http://api.rottentomatoes.com/api/public/v1.0/movies/%s/reviews.json' % rtid\n",
      "    ti = get_title(dataframe, row)\n",
      "    \n",
      "    # check to make sure rtid for a certain movie exists before you make get request\n",
      "    if rtid is not None:\n",
      "        options = {'review_type': 'top_critic', 'page_limit': 20, 'apikey': api_key}\n",
      "        data = requests.get(url, params=options).text\n",
      "        data = json.loads(data)  # load a json string into a collection of lists and dicts\n",
      "        \n",
      "        if not 'reviews' in data.keys():\n",
      "            return None\n",
      "        else:\n",
      "            if len(data['reviews']) >= 20:\n",
      "                length = 20\n",
      "            else:\n",
      "                length = len(data['reviews'])    \n",
      "\n",
      "        critic = []\n",
      "        fresh = []\n",
      "        imdb = []\n",
      "        publication = []\n",
      "        quote = []\n",
      "        review_date = []\n",
      "        title = []\n",
      "        rt= []\n",
      "        \n",
      "        #collect data and format to dataframe\n",
      "        for n in range(length):\n",
      "            critic.append(json.dumps(data['reviews'][n]['critic'], indent=2)[1:-1])\n",
      "            fresh.append(json.dumps(data['reviews'][n]['freshness'], indent=2)[1:-1])\n",
      "            publication.append(json.dumps(data['reviews'][n]['publication'], indent=2)[1:-1])\n",
      "            quote.append(json.dumps(data['reviews'][n]['quote'], indent=2)[1:-1])\n",
      "            review_date.append(json.dumps(data['reviews'][n]['date'], indent=2)[1:-1])\n",
      "            imdb.append(movie_id)\n",
      "            rt.append(rtid)\n",
      "            title.append(ti)\n",
      "    \n",
      "        reviews = pd.DataFrame({'critic':critic,'fresh':fresh, 'imdb':imdb, 'publication':publication, 'quote':quote, 'review_date':review_date, 'rtid':rt, 'title':title})\n",
      "\n",
      "        return reviews\n",
      "    else:\n",
      "        return None\n",
      "\n",
      "\n",
      "fetch_reviews(movies, 0)\n"
     ],
     "language": "python",
     "metadata": {},
     "outputs": [
      {
       "html": [
        "<div style=\"max-height:1000px;max-width:1500px;overflow:auto;\">\n",
        "<table border=\"1\" class=\"dataframe\">\n",
        "  <thead>\n",
        "    <tr style=\"text-align: right;\">\n",
        "      <th></th>\n",
        "      <th>critic</th>\n",
        "      <th>fresh</th>\n",
        "      <th>imdb</th>\n",
        "      <th>publication</th>\n",
        "      <th>quote</th>\n",
        "      <th>review_date</th>\n",
        "      <th>rtid</th>\n",
        "      <th>title</th>\n",
        "    </tr>\n",
        "  </thead>\n",
        "  <tbody>\n",
        "    <tr>\n",
        "      <th>0 </th>\n",
        "      <td>    Owen Gleiberman</td>\n",
        "      <td> fresh</td>\n",
        "      <td> 0114709</td>\n",
        "      <td>    Entertainment Weekly</td>\n",
        "      <td>                                                  </td>\n",
        "      <td> 2011-09-07</td>\n",
        "      <td> 9559</td>\n",
        "      <td> Toy story</td>\n",
        "    </tr>\n",
        "    <tr>\n",
        "      <th>1 </th>\n",
        "      <td>        Derek Adams</td>\n",
        "      <td> fresh</td>\n",
        "      <td> 0114709</td>\n",
        "      <td>                Time Out</td>\n",
        "      <td> So ingenious in concept, design and execution ...</td>\n",
        "      <td> 2009-10-04</td>\n",
        "      <td> 9559</td>\n",
        "      <td> Toy story</td>\n",
        "    </tr>\n",
        "    <tr>\n",
        "      <th>2 </th>\n",
        "      <td>    Richard Corliss</td>\n",
        "      <td> fresh</td>\n",
        "      <td> 0114709</td>\n",
        "      <td>           TIME Magazine</td>\n",
        "      <td>                 The year's most inventive comedy.</td>\n",
        "      <td> 2008-08-31</td>\n",
        "      <td> 9559</td>\n",
        "      <td> Toy story</td>\n",
        "    </tr>\n",
        "    <tr>\n",
        "      <th>3 </th>\n",
        "      <td>        David Ansen</td>\n",
        "      <td> fresh</td>\n",
        "      <td> 0114709</td>\n",
        "      <td>                Newsweek</td>\n",
        "      <td> A winning animated feature that has something ...</td>\n",
        "      <td> 2008-08-18</td>\n",
        "      <td> 9559</td>\n",
        "      <td> Toy story</td>\n",
        "    </tr>\n",
        "    <tr>\n",
        "      <th>4 </th>\n",
        "      <td>      Leonard Klady</td>\n",
        "      <td> fresh</td>\n",
        "      <td> 0114709</td>\n",
        "      <td>                 Variety</td>\n",
        "      <td> The film sports a provocative and appealing st...</td>\n",
        "      <td> 2008-06-09</td>\n",
        "      <td> 9559</td>\n",
        "      <td> Toy story</td>\n",
        "    </tr>\n",
        "    <tr>\n",
        "      <th>5 </th>\n",
        "      <td> Jonathan Rosenbaum</td>\n",
        "      <td> fresh</td>\n",
        "      <td> 0114709</td>\n",
        "      <td>          Chicago Reader</td>\n",
        "      <td> An entertaining computer-generated, hyperreali...</td>\n",
        "      <td> 2008-03-10</td>\n",
        "      <td> 9559</td>\n",
        "      <td> Toy story</td>\n",
        "    </tr>\n",
        "    <tr>\n",
        "      <th>6 </th>\n",
        "      <td>      Michael Booth</td>\n",
        "      <td> fresh</td>\n",
        "      <td> 0114709</td>\n",
        "      <td>             Denver Post</td>\n",
        "      <td> As Lion King did before it, Toy Story revived ...</td>\n",
        "      <td> 2007-05-03</td>\n",
        "      <td> 9559</td>\n",
        "      <td> Toy story</td>\n",
        "    </tr>\n",
        "    <tr>\n",
        "      <th>7 </th>\n",
        "      <td>       Geoff Andrew</td>\n",
        "      <td> fresh</td>\n",
        "      <td> 0114709</td>\n",
        "      <td>                Time Out</td>\n",
        "      <td> The film will probably be more fully appreciat...</td>\n",
        "      <td> 2006-06-24</td>\n",
        "      <td> 9559</td>\n",
        "      <td> Toy story</td>\n",
        "    </tr>\n",
        "    <tr>\n",
        "      <th>8 </th>\n",
        "      <td>       Janet Maslin</td>\n",
        "      <td> fresh</td>\n",
        "      <td> 0114709</td>\n",
        "      <td>          New York Times</td>\n",
        "      <td> Children will enjoy a new take on the irresist...</td>\n",
        "      <td> 2003-05-20</td>\n",
        "      <td> 9559</td>\n",
        "      <td> Toy story</td>\n",
        "    </tr>\n",
        "    <tr>\n",
        "      <th>9 </th>\n",
        "      <td>      Kenneth Turan</td>\n",
        "      <td> fresh</td>\n",
        "      <td> 0114709</td>\n",
        "      <td>       Los Angeles Times</td>\n",
        "      <td> Although its computer-generated imagery is imp...</td>\n",
        "      <td> 2001-02-13</td>\n",
        "      <td> 9559</td>\n",
        "      <td> Toy story</td>\n",
        "    </tr>\n",
        "    <tr>\n",
        "      <th>10</th>\n",
        "      <td>   Susan Wloszczyna</td>\n",
        "      <td> fresh</td>\n",
        "      <td> 0114709</td>\n",
        "      <td>               USA Today</td>\n",
        "      <td> How perfect that two of the most popular funny...</td>\n",
        "      <td> 2000-01-01</td>\n",
        "      <td> 9559</td>\n",
        "      <td> Toy story</td>\n",
        "    </tr>\n",
        "    <tr>\n",
        "      <th>11</th>\n",
        "      <td>        Roger Ebert</td>\n",
        "      <td> fresh</td>\n",
        "      <td> 0114709</td>\n",
        "      <td>       Chicago Sun-Times</td>\n",
        "      <td> The result is a visionary roller-coaster ride ...</td>\n",
        "      <td> 2000-01-01</td>\n",
        "      <td> 9559</td>\n",
        "      <td> Toy story</td>\n",
        "    </tr>\n",
        "    <tr>\n",
        "      <th>12</th>\n",
        "      <td>         John Hartl</td>\n",
        "      <td> fresh</td>\n",
        "      <td> 0114709</td>\n",
        "      <td>                Film.com</td>\n",
        "      <td> Disney's witty, wondrously imaginative, all-co...</td>\n",
        "      <td> 2000-01-01</td>\n",
        "      <td> 9559</td>\n",
        "      <td> Toy story</td>\n",
        "    </tr>\n",
        "    <tr>\n",
        "      <th>13</th>\n",
        "      <td>        Susan Stark</td>\n",
        "      <td> fresh</td>\n",
        "      <td> 0114709</td>\n",
        "      <td>            Detroit News</td>\n",
        "      <td> Disney's first computer-made animated feature ...</td>\n",
        "      <td> 2000-01-01</td>\n",
        "      <td> 9559</td>\n",
        "      <td> Toy story</td>\n",
        "    </tr>\n",
        "    <tr>\n",
        "      <th>14</th>\n",
        "      <td>        Peter Stack</td>\n",
        "      <td> fresh</td>\n",
        "      <td> 0114709</td>\n",
        "      <td> San Francisco Chronicle</td>\n",
        "      <td> The script, by Lasseter, Pete Docter, Andrew S...</td>\n",
        "      <td> 2000-01-01</td>\n",
        "      <td> 9559</td>\n",
        "      <td> Toy story</td>\n",
        "    </tr>\n",
        "    <tr>\n",
        "      <th>15</th>\n",
        "      <td> James Berardinelli</td>\n",
        "      <td> fresh</td>\n",
        "      <td> 0114709</td>\n",
        "      <td>               ReelViews</td>\n",
        "      <td> The one big negative about Toy Story involves ...</td>\n",
        "      <td> 2000-01-01</td>\n",
        "      <td> 9559</td>\n",
        "      <td> Toy story</td>\n",
        "    </tr>\n",
        "    <tr>\n",
        "      <th>16</th>\n",
        "      <td>         Sean Means</td>\n",
        "      <td> fresh</td>\n",
        "      <td> 0114709</td>\n",
        "      <td>                Film.com</td>\n",
        "      <td>        Technically, Toy Story is nearly flawless.</td>\n",
        "      <td> 2000-01-01</td>\n",
        "      <td> 9559</td>\n",
        "      <td> Toy story</td>\n",
        "    </tr>\n",
        "    <tr>\n",
        "      <th>17</th>\n",
        "      <td>       Rita Kempley</td>\n",
        "      <td> fresh</td>\n",
        "      <td> 0114709</td>\n",
        "      <td>         Washington Post</td>\n",
        "      <td> It's a nice change of pace to see the studio d...</td>\n",
        "      <td> 2000-01-01</td>\n",
        "      <td> 9559</td>\n",
        "      <td> Toy story</td>\n",
        "    </tr>\n",
        "    <tr>\n",
        "      <th>18</th>\n",
        "      <td>                   </td>\n",
        "      <td> fresh</td>\n",
        "      <td> 0114709</td>\n",
        "      <td>    Entertainment Weekly</td>\n",
        "      <td> I can hardly imagine having more fun at the mo...</td>\n",
        "      <td> 1995-11-22</td>\n",
        "      <td> 9559</td>\n",
        "      <td> Toy story</td>\n",
        "    </tr>\n",
        "    <tr>\n",
        "      <th>19</th>\n",
        "      <td>        Roger Moore</td>\n",
        "      <td> fresh</td>\n",
        "      <td> 0114709</td>\n",
        "      <td>        Orlando Sentinel</td>\n",
        "      <td> The great voice acting, the visual puns, all a...</td>\n",
        "      <td> 1995-11-22</td>\n",
        "      <td> 9559</td>\n",
        "      <td> Toy story</td>\n",
        "    </tr>\n",
        "  </tbody>\n",
        "</table>\n",
        "</div>"
       ],
       "metadata": {},
       "output_type": "pyout",
       "prompt_number": 4,
       "text": [
        "                critic  fresh     imdb              publication                                              quote review_date  rtid      title\n",
        "0      Owen Gleiberman  fresh  0114709     Entertainment Weekly                                                     2011-09-07  9559  Toy story\n",
        "1          Derek Adams  fresh  0114709                 Time Out  So ingenious in concept, design and execution ...  2009-10-04  9559  Toy story\n",
        "2      Richard Corliss  fresh  0114709            TIME Magazine                  The year's most inventive comedy.  2008-08-31  9559  Toy story\n",
        "3          David Ansen  fresh  0114709                 Newsweek  A winning animated feature that has something ...  2008-08-18  9559  Toy story\n",
        "4        Leonard Klady  fresh  0114709                  Variety  The film sports a provocative and appealing st...  2008-06-09  9559  Toy story\n",
        "5   Jonathan Rosenbaum  fresh  0114709           Chicago Reader  An entertaining computer-generated, hyperreali...  2008-03-10  9559  Toy story\n",
        "6        Michael Booth  fresh  0114709              Denver Post  As Lion King did before it, Toy Story revived ...  2007-05-03  9559  Toy story\n",
        "7         Geoff Andrew  fresh  0114709                 Time Out  The film will probably be more fully appreciat...  2006-06-24  9559  Toy story\n",
        "8         Janet Maslin  fresh  0114709           New York Times  Children will enjoy a new take on the irresist...  2003-05-20  9559  Toy story\n",
        "9        Kenneth Turan  fresh  0114709        Los Angeles Times  Although its computer-generated imagery is imp...  2001-02-13  9559  Toy story\n",
        "10    Susan Wloszczyna  fresh  0114709                USA Today  How perfect that two of the most popular funny...  2000-01-01  9559  Toy story\n",
        "11         Roger Ebert  fresh  0114709        Chicago Sun-Times  The result is a visionary roller-coaster ride ...  2000-01-01  9559  Toy story\n",
        "12          John Hartl  fresh  0114709                 Film.com  Disney's witty, wondrously imaginative, all-co...  2000-01-01  9559  Toy story\n",
        "13         Susan Stark  fresh  0114709             Detroit News  Disney's first computer-made animated feature ...  2000-01-01  9559  Toy story\n",
        "14         Peter Stack  fresh  0114709  San Francisco Chronicle  The script, by Lasseter, Pete Docter, Andrew S...  2000-01-01  9559  Toy story\n",
        "15  James Berardinelli  fresh  0114709                ReelViews  The one big negative about Toy Story involves ...  2000-01-01  9559  Toy story\n",
        "16          Sean Means  fresh  0114709                 Film.com         Technically, Toy Story is nearly flawless.  2000-01-01  9559  Toy story\n",
        "17        Rita Kempley  fresh  0114709          Washington Post  It's a nice change of pace to see the studio d...  2000-01-01  9559  Toy story\n",
        "18                      fresh  0114709     Entertainment Weekly  I can hardly imagine having more fun at the mo...  1995-11-22  9559  Toy story\n",
        "19         Roger Moore  fresh  0114709         Orlando Sentinel  The great voice acting, the visual puns, all a...  1995-11-22  9559  Toy story"
       ]
      }
     ],
     "prompt_number": 4
    },
    {
     "cell_type": "markdown",
     "metadata": {},
     "source": [
      "#### P1.2\n",
      "\n",
      "Use the function you wrote to retrieve reviews for the first 3,000 movies in the movies dataframe.\n",
      "\n",
      "##### Hints\n",
      "* Rotten Tomatoes limits you to **10,000 API requests a day**. Be careful about this limit! Test your code on smaller inputs before scaling. You are responsible if you hit the limit the day the assignment is due :)\n",
      "* This will take a while to download. If you don't want to re-run this function every time you restart the notebook, you can save and re-load this data as a CSV file. However, please don't submit this file"
     ]
    },
    {
     "cell_type": "code",
     "collapsed": false,
     "input": [
      "\"\"\"\n",
      "Function\n",
      "--------\n",
      "build_table\n",
      "\n",
      "Parameters\n",
      "----------\n",
      "movies : DataFrame\n",
      "  The movies data above\n",
      "rows : int\n",
      "  The number of rows to extract reviews for\n",
      "  \n",
      "Returns\n",
      "--------\n",
      "A dataframe\n",
      "  The data obtained by repeatedly calling `fetch_reviews` on the first `rows`\n",
      "  of `movies`, discarding the `None`s,\n",
      "  and concatenating the results into a single DataFrame\n",
      "\"\"\"\n",
      "\n",
      "def build_table(dataframe, rows):\n",
      "    table = fetch_reviews(movies, 0)\n",
      "    \n",
      "    for n in range(1, rows):\n",
      "        temp = None\n",
      "        temp = fetch_reviews(movies,n)\n",
      "        if temp is None:\n",
      "            continue\n",
      "        else:\n",
      "            table = table.append(temp, ignore_index=True)\n",
      "    return table"
     ],
     "language": "python",
     "metadata": {},
     "outputs": [],
     "prompt_number": 5
    },
    {
     "cell_type": "code",
     "collapsed": false,
     "input": [
      "#you can toggle which lines are commented, if you\n",
      "#want to re-load your results to avoid repeatedly calling this function\n",
      "\n",
      "critics = build_table(movies, 3000)\n",
      "critics.to_csv('critics.csv', index=False)\n",
      "critics = pd.read_csv('critics.csv')\n",
      "\n",
      "\n",
      "#for this assignment, let's drop rows with missing data\n",
      "critics = critics[~critics.quote.isnull()]\n",
      "critics = critics[critics.fresh != 'none']\n",
      "critics = critics[critics.quote.str.len() > 0]"
     ],
     "language": "python",
     "metadata": {},
     "outputs": [],
     "prompt_number": 6
    },
    {
     "cell_type": "markdown",
     "metadata": {},
     "source": [
      "A quick sanity check that everything looks ok at this point"
     ]
    },
    {
     "cell_type": "code",
     "collapsed": false,
     "input": [
      "\n",
      "assert set(critics.columns) == set('critic fresh imdb publication '\n",
      "                                   'quote review_date rtid title'.split())\n",
      "assert len(critics) > 10000\n"
     ],
     "language": "python",
     "metadata": {},
     "outputs": [],
     "prompt_number": 7
    },
    {
     "cell_type": "markdown",
     "metadata": {},
     "source": [
      "## Part 2: Explore\n",
      "\n",
      "Before delving into analysis, get a sense of what these data look like. Answer the following questions. Include your code!"
     ]
    },
    {
     "cell_type": "markdown",
     "metadata": {},
     "source": [
      "**2.1** How many reviews, critics, and movies are in this dataset?\n"
     ]
    },
    {
     "cell_type": "code",
     "collapsed": false,
     "input": [
      "\n",
      "print 'number of reviews: ' + str(len(critics)) \n",
      "\n",
      "print 'there are ' + str(len(critics.groupby('title'))) + ' movies in the dataset'\n",
      "\n",
      "print 'there are ' + str(len(critics.groupby('critic'))) + ' critics in the dataset'\n",
      "\n"
     ],
     "language": "python",
     "metadata": {},
     "outputs": [
      {
       "output_type": "stream",
       "stream": "stdout",
       "text": [
        "number of reviews: 13586\n",
        "there are 1716 movies in the dataset"
       ]
      },
      {
       "output_type": "stream",
       "stream": "stdout",
       "text": [
        "\n",
        "there are 595 critics in the dataset\n"
       ]
      }
     ],
     "prompt_number": 8
    },
    {
     "cell_type": "markdown",
     "metadata": {},
     "source": [
      "**2.2** What does the distribution of number of reviews per reviewer look like? Make a histogram"
     ]
    },
    {
     "cell_type": "code",
     "collapsed": false,
     "input": [
      "#add title, x-axis, y-axis\n",
      "df =  critics.groupby('critic')\n",
      "n = df.size()\n",
      "n = n.tolist()\n",
      "\n",
      "plt.hist(n, bins = 20)\n",
      "plt.ylabel('Number of Reviewers')\n",
      "plt.xlabel('Number of Reviews')\n",
      "plt.title('Number of Views per Reviewer')\n",
      "plt.savefig('hist_reviews.png')    "
     ],
     "language": "python",
     "metadata": {},
     "outputs": [
      {
       "metadata": {},
       "output_type": "pyout",
       "prompt_number": 9,
       "text": [
        "<matplotlib.text.Text at 0x1023c86d0>"
       ]
      },
      {
       "metadata": {},
       "output_type": "display_data",
       "png": "[encoded data removed]",
       "text": [
        "<matplotlib.figure.Figure at 0x107b3e810>"
       ]
      }
     ],
     "prompt_number": 9
    },
    {
     "cell_type": "markdown",
     "metadata": {},
     "source": [
      "**2.3** List the 5 critics with the most reviews, along with the publication they write for"
     ]
    },
    {
     "cell_type": "code",
     "collapsed": false,
     "input": [
      "\n",
      "#p = df.publication\n",
      "p = [x[1] for x in df.publication]\n",
      "\n",
      "\n",
      "data = pd.DataFrame(n,  columns=['size'])\n",
      "data['publication'] = p\n",
      "data['critic'] = df['critic']\n",
      "\n",
      "\n",
      "data = data.sort_index(by='size', ascending = False)\n",
      "print data[:5]\n",
      "\n",
      "\"\"\"\n",
      "The top 5 critics with the most reviews and there publications are:\n",
      "\n",
      "Rogert Ebert                      1137                 Chicago Sun-Times\n",
      "James Berardinelli                806                  ReelViews\n",
      "Janet Maslin                      517                  New York Times\n",
      "Variety Staff                     433                  Variety\n",
      "Jonathan Rosenbaum                413                  Chicago Reader\n",
      "\n",
      "\"\"\"\n"
     ],
     "language": "python",
     "metadata": {},
     "outputs": [
      {
       "output_type": "stream",
       "stream": "stdout",
       "text": [
        "     size                                        publication                                             critic\n",
        "500  1002  [Chicago Sun-Times, Chicago Sun-Times, Chicago...  (Roger Ebert, [Roger Ebert, Roger Ebert, Roger...\n",
        "246   738  [ReelViews, ReelViews, ReelViews, ReelViews, R...  (James Berardinelli, [James Berardinelli, Jame...\n",
        "254   474  [New York Times, New York Times, New York Time...  (Janet Maslin, [Janet Maslin, Janet Maslin, Ja...\n",
        "585   369  [Variety, Variety, Variety, Variety, Variety, ...  (Variety Staff, [Variety Staff, Variety Staff,...\n",
        "314   362  [Chicago Reader, Chicago Reader, Chicago Reade...  (Jonathan Rosenbaum, [Jonathan Rosenbaum, Jona...\n"
       ]
      },
      {
       "metadata": {},
       "output_type": "pyout",
       "prompt_number": 10,
       "text": [
        "'\\nThe top 5 critics with the most reviews and there publications are:\\n\\nRogert Ebert                      1137                 Chicago Sun-Times\\nJames Berardinelli                806                  ReelViews\\nJanet Maslin                      517                  New York Times\\nVariety Staff                     433                  Variety\\nJonathan Rosenbaum                413                  Chicago Reader\\n\\n'"
       ]
      }
     ],
     "prompt_number": 10
    },
    {
     "cell_type": "markdown",
     "metadata": {},
     "source": [
      "**2.4** Of the critics with > 100 reviews, plot the distribution of average \"freshness\" rating per critic"
     ]
    },
    {
     "cell_type": "code",
     "collapsed": false,
     "input": [
      "n = df.size()\n",
      "n = n[n> 100]\n",
      "\n",
      "fresh_sum = df.fresh.aggregate(lambda x: sum(i=='fresh' for i in x))\n",
      "fresh_total = df.fresh.aggregate(lambda x: sum(True for i in x))\n",
      "\n",
      "fresh_percent = [float(x)/float(y) for x,y in zip(fresh_sum, fresh_total)]\n",
      "\n",
      "plt.hist(fresh_percent, 20)\n",
      "plt.title('Distribution of Average Freshness Rating Per Critic')\n",
      "plt.ylabel('Number of Critics')\n",
      "plt.xlabel('Average Freshness Rating')\n",
      "plt.savefig('hist_ratings.png')\n",
      "  \n",
      "    "
     ],
     "language": "python",
     "metadata": {},
     "outputs": [
      {
       "metadata": {},
       "output_type": "pyout",
       "prompt_number": 11,
       "text": [
        "<matplotlib.text.Text at 0x105fbbc10>"
       ]
      },
      {
       "metadata": {},
       "output_type": "display_data",
       "png": "[encoded data removed]",
       "text": [
        "<matplotlib.figure.Figure at 0x108532f10>"
       ]
      }
     ],
     "prompt_number": 11
    },
    {
     "cell_type": "code",
     "collapsed": false,
     "input": [
      "def remove_border(axes=None, top=False, right=False, left=True, bottom=True):\n",
      "    \"\"\"\n",
      "    Minimize chartjunk by stripping out unnecesasry plot borders and axis ticks\n",
      "    \n",
      "    The top/right/left/bottom keywords toggle whether the corresponding plot border is drawn\n",
      "    \"\"\"\n",
      "    ax = axes or plt.gca()\n",
      "    ax.spines['top'].set_visible(top)\n",
      "    ax.spines['right'].set_visible(right)\n",
      "    ax.spines['left'].set_visible(left)\n",
      "    ax.spines['bottom'].set_visible(bottom)\n",
      "    \n",
      "    #turn off all ticks\n",
      "    ax.yaxis.set_ticks_position('none')\n",
      "    ax.xaxis.set_ticks_position('none')\n",
      "    \n",
      "    #now re-enable visibles\n",
      "    if top:\n",
      "        ax.xaxis.tick_top()\n",
      "    if bottom:\n",
      "        ax.xaxis.tick_bottom()\n",
      "    if left:\n",
      "        ax.yaxis.tick_left()\n",
      "    if right:\n",
      "        ax.yaxis.tick_right()\n",
      "    return"
     ],
     "language": "python",
     "metadata": {},
     "outputs": [],
     "prompt_number": 12
    },
    {
     "cell_type": "markdown",
     "metadata": {},
     "source": [
      "**2.5**\n",
      "Using the original `movies` dataframe, plot the rotten tomatoes Top Critics Rating as a function of year. Overplot the average for each year, ignoring the score=0 examples (some of these are missing data). Comment on the result -- is there a trend? What do you think it means?"
     ]
    },
    {
     "cell_type": "code",
     "collapsed": false,
     "input": [
      "# plot Top Critics Rating as a function of year\n",
      "# overplot the average for each year\n",
      "year = []\n",
      "rating = []\n",
      "\n",
      "# add movies who's top critics rating is greater than 0\n",
      "for n in range(len(movies['rtTopCriticsRating'])):  \n",
      "    try:\n",
      "        if movies['rtTopCriticsRating'][n] is not '0':\n",
      "            rating.append(float(movies['rtTopCriticsRating'][n]))\n",
      "            year.append(int(movies['year'][n]))\n",
      "    except:\n",
      "        continue\n",
      "\n",
      "\n",
      "df_new = pd.DataFrame({'year':year, 'rating': rating})        \n",
      "grouped = df_new.groupby('year')\n",
      "avg = grouped.rating.mean()\n",
      "years = grouped.year.tolist()\n",
      "years = [x[0] for x in years]\n",
      "\n",
      "fig = plt.figure()\n",
      "plt.scatter(year, rating, alpha = 0.3)\n",
      "plt.plot(years, avg, 'red')\n",
      "plt.title('Top Critics Ratings by Year')\n",
      "plt.xlabel('Year')\n",
      "plt.ylabel('Rating')\n",
      "\n",
      "\n",
      "axis = fig.gca()\n",
      "remove_border(axis, top=False, right=False)\n",
      "\n"
     ],
     "language": "python",
     "metadata": {},
     "outputs": [
      {
       "metadata": {},
       "output_type": "display_data",
       "png": "[encoded data removed]",
       "text": [
        "<matplotlib.figure.Figure at 0x10720d650>"
       ]
      }
     ],
     "prompt_number": 13
    },
    {
     "cell_type": "markdown",
     "metadata": {},
     "source": [
      "There are significantly more ratings as time goes on most likely because there are more movies to review. Also, the ratings start to have a greater range with quite a few more with low rating than were previously. The downward trend in the ratings could be because ratings started to get more critical as more movies were made and standards were raised. "
     ]
    },
    {
     "cell_type": "markdown",
     "metadata": {},
     "source": [
      "## Part 3: Sentiment Analysis\n",
      "\n",
      "You will now use a [Naive Bayes classifier](https://en.wikipedia.org/wiki/Naive_Bayes_classifier) to build a prediction model for whether a review is fresh or rotten, depending on the text of the review. See Lecture 9 for a discussion of Naive Bayes.\n",
      "\n",
      "Most models work with numerical data, so we need to convert the textual collection of reviews to something numerical. A common strategy for text classification is to represent each review as a \"bag of words\" vector -- a long vector\n",
      "of numbers encoding how many times a particular word appears in a blurb.\n",
      "\n",
      "Scikit-learn has an object called a `CountVectorizer` that turns text into a bag of words. Here's a quick tutorial:"
     ]
    },
    {
     "cell_type": "code",
     "collapsed": false,
     "input": [
      "from sklearn.feature_extraction.text import CountVectorizer\n",
      "\n",
      "text = ['Hop on pop', 'Hop off pop', 'Hop Hop hop']\n",
      "print \"Original text is\\n\", '\\n'.join(text)\n",
      "\n",
      "vectorizer = CountVectorizer(min_df=0)\n",
      "\n",
      "# call `fit` to build the vocabulary\n",
      "vectorizer.fit(text)\n",
      "\n",
      "# call `transform` to convert text to a bag of words\n",
      "x = vectorizer.transform(text)\n",
      "\n",
      "# CountVectorizer uses a sparse array to save memory, but it's easier in this assignment to \n",
      "# convert back to a \"normal\" numpy array\n",
      "x = x.toarray()\n",
      "\n",
      "print\n",
      "print \"Transformed text vector is \\n\", x\n",
      "\n",
      "# `get_feature_names` tracks which word is associated with each column of the transformed x\n",
      "print\n",
      "print \"Words for each feature:\"\n",
      "print vectorizer.get_feature_names()\n",
      "\n",
      "# Notice that the bag of words treatment doesn't preserve information about the *order* of words, \n",
      "# just their frequency"
     ],
     "language": "python",
     "metadata": {},
     "outputs": [
      {
       "output_type": "stream",
       "stream": "stdout",
       "text": [
        "Original text is\n",
        "Hop on pop\n",
        "Hop off pop\n",
        "Hop Hop hop\n",
        "\n",
        "Transformed text vector is \n",
        "[[1 0 1 1]\n",
        " [1 1 0 1]\n",
        " [3 0 0 0]]\n",
        "\n",
        "Words for each feature:\n",
        "[u'hop', u'off', u'on', u'pop']\n"
       ]
      }
     ],
     "prompt_number": 14
    },
    {
     "cell_type": "markdown",
     "metadata": {},
     "source": [
      "**3.1**\n",
      "\n",
      "Using the `critics` dataframe, compute a pair of numerical X, Y arrays where:\n",
      "    \n",
      " * X is a `(nreview, nwords)` array. Each row corresponds to a bag-of-words representation for a single review. This will be the *input* to your model.\n",
      " * Y is a `nreview`-element 1/0 array, encoding whether a review is Fresh (1) or Rotten (0). This is the desired *output* from your model.\n"
     ]
    },
    {
     "cell_type": "code",
     "collapsed": false,
     "input": [
      "#hint: Consult the scikit-learn documentation to\n",
      "#      learn about what these classes do do\n",
      "from sklearn.cross_validation import train_test_split\n",
      "from sklearn.naive_bayes import MultinomialNB\n",
      "\n",
      "\"\"\"\n",
      "Function\n",
      "--------\n",
      "make_xy\n",
      "\n",
      "Build a bag-of-words training set for the review data\n",
      "\n",
      "Parameters\n",
      "-----------\n",
      "critics : Pandas DataFrame\n",
      "    The review data from above\n",
      "    \n",
      "vectorizer : CountVectorizer object (optional)\n",
      "    A CountVectorizer object to use. If None,\n",
      "    then create and fit a new CountVectorizer.\n",
      "    Otherwise, re-fit the provided CountVectorizer\n",
      "    using the critics data\n",
      "    \n",
      "Returns\n",
      "-------\n",
      "X : numpy array (dims: nreview, nwords)\n",
      "    Bag-of-words representation for each review.\n",
      "Y : numpy array (dims: nreview)\n",
      "    1/0 array. 1 = fresh review, 0 = rotten review\n",
      "\n",
      "Examples\n",
      "--------\n",
      "X, Y = make_xy(critics)\n",
      "\"\"\"\n",
      "def make_xy(critics, vectorizer=None):\n",
      "    \n",
      "    vectorizer = CountVectorizer(min_df=0)\n",
      "    \n",
      "    # call `fit` to build the vocabulary\n",
      "    quotes = critics.quote.tolist()\n",
      "\n",
      "    vectorizer.fit(quotes)\n",
      "    \n",
      "    # call `transform` to convert text to a bag of words\n",
      "    X = vectorizer.transform(quotes)\n",
      "    Y = [int(i=='fresh') for i in critics.fresh]\n",
      "    \n",
      "    X = X.toarray()\n",
      "\n",
      "    return X,Y"
     ],
     "language": "python",
     "metadata": {},
     "outputs": [],
     "prompt_number": 15
    },
    {
     "cell_type": "code",
     "collapsed": false,
     "input": [
      "X, Y = make_xy(critics)"
     ],
     "language": "python",
     "metadata": {},
     "outputs": [],
     "prompt_number": 16
    },
    {
     "cell_type": "markdown",
     "metadata": {},
     "source": [
      "\n",
      "**3.2** Next, randomly split the data into two groups: a\n",
      "training set and a validation set. \n",
      "\n",
      "Use the training set to train a `MultinomialNB` classifier,\n",
      "and print the accuracy of this model on the validation set\n",
      "\n",
      "**Hint**\n",
      "You can use [`train_test_split`](http://scikit-learn.org/stable/modules/generated/sklearn.cross_validation.train_test_split.html) to split up the training data"
     ]
    },
    {
     "cell_type": "code",
     "collapsed": true,
     "input": [
      "X_training,xtest,Y_training,ytest = train_test_split(X,Y)\n",
      "clf=MultinomialNB()\n",
      "clf.fit(X_training,Y_training)\n"
     ],
     "language": "python",
     "metadata": {},
     "outputs": [
      {
       "metadata": {},
       "output_type": "pyout",
       "prompt_number": 17,
       "text": [
        "MultinomialNB(alpha=1.0, class_prior=None, fit_prior=True)"
       ]
      }
     ],
     "prompt_number": 17
    },
    {
     "cell_type": "markdown",
     "metadata": {},
     "source": [
      "**3.3:**\n",
      "\n",
      "We say a model is **overfit** if it performs better on the training data than on the test data. Is this model overfit? If so, how much more accurate is the model on the training data compared to the test data?"
     ]
    },
    {
     "cell_type": "code",
     "collapsed": false,
     "input": [
      "# Your code here. Print the accuracy on the test and training dataset\n",
      "test_score = clf.score(xtest,ytest)\n",
      "training_score =   clf.score(X_training, Y_training)\n",
      "print test_score\n",
      "print training_score"
     ],
     "language": "python",
     "metadata": {},
     "outputs": [
      {
       "output_type": "stream",
       "stream": "stdout",
       "text": [
        "0.76655872829\n",
        "0.923250564334\n"
       ]
      }
     ],
     "prompt_number": 18
    },
    {
     "cell_type": "markdown",
     "metadata": {},
     "source": [
      "**The model is overfit because it performs significantly better on the training data (with an accuracy of around .9) than on the test data (with an accuracy of approximately .75). Therefore the model performs at approximately 80% of the training data that it does on the test data. The model performs with approximately a .25 difference on the training data in comparison to the test data. **"
     ]
    },
    {
     "cell_type": "markdown",
     "metadata": {},
     "source": [
      "**3.4: Model Calibration**\n",
      "\n",
      "Bayesian models like the Naive Bayes classifier have the nice property that they compute probabilities of a particular classification -- the `predict_proba` and `predict_log_proba` methods of `MultinomialNB` compute these probabilities. \n",
      "\n",
      "Being the respectable Bayesian that you are, you should always assess whether these probabilities are **calibrated** -- that is, whether a prediction made with a confidence of `x%` is correct approximately `x%` of the time. We care about calibration because it tells us whether we can trust the probabilities computed by a model. If we can trust model probabilities, we can make better decisions using them (for example, we can calculate how much we should bet or invest in a given prediction).\n",
      "\n",
      "Let's make a plot to assess model calibration. Schematically, we want something like this:\n",
      "\n",
      "<img src=\"http://i.imgur.com/ea5B6zr.png\" width=500px>\n",
      "\n",
      "In words, we want to:\n",
      "\n",
      "* Take a collection of examples, and compute the freshness probability for each using `clf.predict_proba`\n",
      "* Gather examples into bins of similar freshness probability (the diagram shows 5 groups -- you should use something closer to 20)\n",
      "* For each bin, count the number of examples in that bin, and compute the fraction of examples in the bin which are fresh\n",
      "* In the upper plot, graph the expected P(Fresh) (x axis) and observed freshness fraction (Y axis). Estimate the uncertainty in observed freshness fraction $F$ via the [equation](http://en.wikipedia.org/wiki/Binomial_proportion_confidence_interval) $\\sigma = \\sqrt{F (1-F) / N}$\n",
      "* Overplot the line y=x. This is the trend we would expect if the model is calibrated\n",
      "* In the lower plot, show the number of examples in each bin\n",
      "\n",
      "**Hints**\n",
      "\n",
      "The output of `clf.predict_proba(X)` is a `(N example, 2)` array. The first column gives the probability $P(Y=0)$ or  $P(Rotten)$, and the second gives $P(Y=1)$ or $P(Fresh)$.\n",
      "\n",
      "The above image is just a guideline -- feel free to explore other options!"
     ]
    },
    {
     "cell_type": "code",
     "collapsed": false,
     "input": [
      "\"\"\"\n",
      "Function\n",
      "--------\n",
      "calibration_plot\n",
      "\n",
      "Builds a plot like the one above, from a classifier and review data\n",
      "\n",
      "Inputs\n",
      "-------\n",
      "clf : Classifier object\n",
      "    A MultinomialNB classifier\n",
      "X : (Nexample, Nfeature) array\n",
      "    The bag-of-words data\n",
      "Y : (Nexample) integer array\n",
      "    1 if a review is Fresh\n",
      "\"\"\"    \n",
      "\n",
      "def calibration_plot(clf, X, Y):\n",
      "    prediction = clf.predict_proba(X)\n",
      "    \n",
      "    df = pd.DataFrame(prediction, columns = ['rot_prob', 'fresh_prob'])\n",
      "    df['freshness'] = Y\n",
      "\n",
      "    bins = np.linspace(df.fresh_prob.min(), df.fresh_prob.max(), 20)\n",
      "    \n",
      "    groups = df.groupby(np.digitize(df.fresh_prob, bins))\n",
      "\n",
      "    \n",
      "    avg_fresh_prob = groups.fresh_prob.mean()\n",
      "    \n",
      "    a = groups.freshness.sum()\n",
      "    a = a.tolist()\n",
      "    \n",
      "    size_group = groups.size()\n",
      "    size_group = size_group.tolist()\n",
      "\n",
      "    fresh_fraction = [float(x)/float(y) for x,y in zip(a,size_group)]\n",
      "    \n",
      "    uncertainty = [(x*(1-x)/20)**.5 for x in fresh_fraction]\n",
      "\n",
      "    fig1 = plt.figure()\n",
      "    plt.scatter(avg_fresh_prob, fresh_fraction)\n",
      "    plt.errorbar(avg_fresh_prob, fresh_fraction, uncertainty)\n",
      "    axis = fig1.gca()\n",
      "    remove_border(axis, top=False, right=False)\n",
      "    plt.title('Expected Freshness versus Observed Freshness Fraction')\n",
      "    plt.xlabel('Average Freshness Probability')\n",
      "    plt.ylabel('Observed Fresh Fraction')\n",
      "\n",
      "    # overplot line y=x\n",
      "    x = np.linspace(0,1,20)\n",
      "    y = x\n",
      "    plt.plot(x, y)\n",
      "    plt.savefig('fresh_performance.png')\n",
      "\n",
      "    # to show how many examples per bin\n",
      "    groups2 = df.groupby('fresh_prob')\n",
      "    fresh_probs = groups2.fresh_prob.tolist()\n",
      "    fresh_probs = [x[0] for x in fresh_probs]\n",
      "    \n",
      "    \n",
      "    fig2 = plt.figure()\n",
      "    plt.hist(fresh_probs, bins =20)\n",
      "    axis2 = fig2.gca()\n",
      "    remove_border(axis2, top=False)\n",
      "    plt.title('Distribution of Reviews Based on Freshness Probability')\n",
      "    plt.xlabel('Number of Reviews')\n",
      "    plt.ylabel('Freshness Probability')\n",
      "    plt.savefig('dist_freshness.png')\n",
      "\n",
      "    return"
     ],
     "language": "python",
     "metadata": {},
     "outputs": [],
     "prompt_number": 19
    },
    {
     "cell_type": "code",
     "collapsed": false,
     "input": [
      "calibration_plot(clf, xtest, ytest)"
     ],
     "language": "python",
     "metadata": {},
     "outputs": [
      {
       "metadata": {},
       "output_type": "display_data",
       "png": "[encoded data removed]",
       "text": [
        "<matplotlib.figure.Figure at 0x1072b6f90>"
       ]
      },
      {
       "metadata": {},
       "output_type": "display_data",
       "png": "[encoded data removed]",
       "text": [
        "<matplotlib.figure.Figure at 0x1074571d0>"
       ]
      }
     ],
     "prompt_number": 20
    },
    {
     "cell_type": "markdown",
     "metadata": {},
     "source": [
      "**3.5** We might say a model is *over-confident* if the freshness fraction is usually closer to 0.5 than expected (that is, there is more uncertainty than the model predicted). Likewise, a model is *under-confident* if the probabilities are usually further away from 0.5. Is this model generally over- or under-confident? "
     ]
    },
    {
     "cell_type": "markdown",
     "metadata": {},
     "source": [
      "**Because the freshness fractions are further away from .5, the model is generally under-confident.**"
     ]
    },
    {
     "cell_type": "markdown",
     "metadata": {},
     "source": [
      "#### Cross Validation\n",
      "\n",
      "Our classifier has a few free parameters. The two most important are:\n",
      "\n",
      " 1. The `min_df` keyword in `CountVectorizer`, which will ignore words which appear in fewer than `min_df` fraction of reviews. Words that appear only once or twice can lead to overfitting, since words which occur only a few times might correlate very well with Fresh/Rotten reviews by chance in the training dataset.\n",
      " \n",
      " 2. The [`alpha` keyword](http://scikit-learn.org/stable/modules/naive_bayes.html#multinomial-naive-bayes) in the Bayesian classifier is a \"smoothing parameter\" -- increasing the value decreases the sensitivity to any single feature, and tends to pull prediction probabilities closer to 50%. \n",
      "\n",
      "As discussed in lecture and HW2, a common technique for choosing appropriate values for these parameters is **cross-validation**. Let's choose good parameters by maximizing the cross-validated log-likelihood.\n",
      "\n",
      "**3.6** Using `clf.predict_log_proba`, write a function that computes the log-likelihood of a dataset"
     ]
    },
    {
     "cell_type": "code",
     "collapsed": false,
     "input": [
      "\"\"\"\n",
      "Function\n",
      "--------\n",
      "log_likelihood\n",
      "\n",
      "Compute the log likelihood of a dataset according to a bayesian classifier. \n",
      "The Log Likelihood is defined by\n",
      "\n",
      "L = Sum_fresh(logP(fresh)) + Sum_rotten(logP(rotten))\n",
      "\n",
      "Where Sum_fresh indicates a sum over all fresh reviews, \n",
      "and Sum_rotten indicates a sum over rotten reviews\n",
      "    \n",
      "Parameters\n",
      "----------\n",
      "clf : Bayesian classifier\n",
      "x : (nexample, nfeature) array\n",
      "    The input data\n",
      "y : (nexample) integer array\n",
      "    Whether each review is Fresh\n",
      "\"\"\"\n",
      "\n",
      "def log_likelihood(clf, x, y):\n",
      "    \n",
      "    log_prediction = clf.predict_log_proba(x)\n",
      "    \n",
      "    #extract probabilities from classifier prediction\n",
      "    fresh_prob = [n[1] for n in log_prediction]\n",
      "    rot_prob = [n[0] for n in log_prediction]\n",
      "    \n",
      "    Sum_fresh = sum(fresh_prob)\n",
      "    Sum_rotten = sum(rot_prob)\n",
      "\n",
      "    L = Sum_fresh + Sum_rotten\n",
      "    return L\n",
      "\n",
      "log_likelihood(clf, xtest, ytest)\n"
     ],
     "language": "python",
     "metadata": {},
     "outputs": [
      {
       "metadata": {},
       "output_type": "pyout",
       "prompt_number": 21,
       "text": [
        "-11306.855325952918"
       ]
      }
     ],
     "prompt_number": 21
    },
    {
     "cell_type": "markdown",
     "metadata": {},
     "source": [
      "Here's a function to estimate the cross-validated value of a scoring function, given a classifier and data"
     ]
    },
    {
     "cell_type": "code",
     "collapsed": false,
     "input": [
      "from sklearn.cross_validation import KFold\n",
      "\n",
      "def cv_score(clf, x, y, score_func):\n",
      "    \"\"\"\n",
      "    Uses 5-fold cross validation to estimate a score of a classifier\n",
      "    \n",
      "    Inputs\n",
      "    ------\n",
      "    clf : Classifier object\n",
      "    x : Input feature vector\n",
      "    y : Input class labels\n",
      "    score_func : Function like log_likelihood, that takes (clf, x, y) as input,\n",
      "                 and returns a score\n",
      "                 \n",
      "    Returns\n",
      "    -------\n",
      "    The average score obtained by randomly splitting (x, y) into training and \n",
      "    test sets, fitting on the training set, and evaluating score_func on the test set\n",
      "    \n",
      "    Examples\n",
      "    cv_score(clf, x, y, log_likelihood)\n",
      "    \"\"\"\n",
      "    result = 0\n",
      "    nfold = 5\n",
      "    for train, test in KFold(y.size, nfold): # split data into train/test groups, 5 times\n",
      "        clf.fit(x[train], y[train]) # fit\n",
      "        result += score_func(clf, x[test], y[test]) # evaluate score function on held-out data\n",
      "    return result / nfold # average\n",
      "\n",
      "# as a side note, this function is builtin to the newest version of sklearn. We could just write\n",
      "# sklearn.cross_validation.cross_val_score(clf, x, y, scorer=log_likelihood)."
     ],
     "language": "python",
     "metadata": {},
     "outputs": [],
     "prompt_number": 22
    },
    {
     "cell_type": "markdown",
     "metadata": {},
     "source": [
      "**3.7**\n",
      "\n",
      "Fill in the remaining code in this block, to loop over many values of `alpha` and `min_df` to determine\n",
      "which settings are \"best\" in the sense of maximizing the cross-validated log-likelihood"
     ]
    },
    {
     "cell_type": "code",
     "collapsed": true,
     "input": [
      "#the grid of parameters to search over\n",
      "alphas = [0, .1, 1, 5, 10, 50]\n",
      "min_dfs = [1e-5, 1e-4, 1e-3, 1e-2, 1e-1]\n",
      "\n",
      "#Find the best value for alpha and min_df, and the best classifier\n",
      "best_alpha = None\n",
      "best_min_df = None\n",
      "max_loglike = -np.inf\n",
      "\n",
      "for alpha in alphas:\n",
      "    for min_df in min_dfs:         \n",
      "        vectorizer2 = CountVectorizer(min_df = min_df)       \n",
      "        X2, Y2 = make_xy(critics, vectorizer2)\n",
      "        \n",
      "        \n",
      "        X_training2,xtest2,Y_training2,ytest2 = train_test_split(X2,Y2)\n",
      "        clf2 = MultinomialNB(alpha=alpha)\n",
      "        \n",
      "        # replace previous alpha and min_df values with the current values if the max_loglike produced is greater\n",
      "        temp = cv_score(clf2, xtest2, ytest2,log_likelihood)\n",
      "        if temp > max_loglike:\n",
      "            best_alpha = alpha\n",
      "            best_min_df = min_df\n",
      "            max_loglike = temp"
     ],
     "language": "python",
     "metadata": {},
     "outputs": [],
     "prompt_number": 23
    },
    {
     "cell_type": "code",
     "collapsed": false,
     "input": [
      "print \"alpha: %f\" % best_alpha\n",
      "print \"min_df: %f\" % best_min_df"
     ],
     "language": "python",
     "metadata": {},
     "outputs": [
      {
       "output_type": "stream",
       "stream": "stdout",
       "text": [
        "alpha: 1.000000\n",
        "min_df: 0.010000\n"
       ]
      }
     ],
     "prompt_number": 24
    },
    {
     "cell_type": "markdown",
     "metadata": {},
     "source": [
      "**3.8** Now that you've determined values for alpha and min_df that optimize the cross-validated log-likelihood, repeat the steps in 3.1, 3.2, and 3.4 to train a final classifier with these parameters, re-evaluate the accuracy, and draw a new calibration plot."
     ]
    },
    {
     "cell_type": "code",
     "collapsed": true,
     "input": [
      "\n",
      "\n",
      "vectorizer3 = CountVectorizer(min_df=best_min_df)\n",
      "\n",
      "quotes = critics.quote.tolist()\n",
      "\n",
      "vectorizer3.fit(quotes)\n",
      "\n",
      "# call `transform` to convert text to a bag of words\n",
      "X3 = vectorizer3.transform(quotes)\n",
      "Y3 = [int(i=='fresh') for i in critics.fresh]\n",
      "\n",
      "X3 = X3.toarray()\n",
      "\n",
      "X_train3,xtest3,Y_train3,ytest3 = train_test_split(X3,Y3)\n",
      "clf3=MultinomialNB(alpha=best_alpha)\n",
      "\n",
      "clf3.fit(xtest3, ytest3)\n",
      "calibration_plot(clf3, xtest3, ytest3)\n"
     ],
     "language": "python",
     "metadata": {},
     "outputs": [
      {
       "metadata": {},
       "output_type": "display_data",
       "png": "[encoded data removed]",
       "text": [
        "<matplotlib.figure.Figure at 0x105e3a310>"
       ]
      },
      {
       "metadata": {},
       "output_type": "display_data",
       "png": "[encoded data removed]",
       "text": [
        "<matplotlib.figure.Figure at 0x105f73810>"
       ]
      }
     ],
     "prompt_number": 25
    },
    {
     "cell_type": "markdown",
     "metadata": {},
     "source": [
      "**3.9** Discuss the various ways in which Cross-Validation has affected the model. Is the new model more or less accurate? Is overfitting better or worse? Is the model more or less calibrated?\n",
      "\n",
      "**The model is now less overfitted as it ignores words that might be really specific to certain reviews. Overfitting in this case is worse because you don't want the model to be too specific to one dataset. This model may be less accurate for the specific dataset but would be more accurate if run on many different ones. It is therefore more calibrated because it is less specific to ONE dataset and more generalizeable. **"
     ]
    },
    {
     "cell_type": "markdown",
     "metadata": {},
     "source": [
      "****"
     ]
    },
    {
     "cell_type": "markdown",
     "metadata": {},
     "source": [
      "*To think about/play with, but not to hand in: What would happen if you tried this again using a function besides the log-likelihood -- for example, the classification accuracy?*"
     ]
    },
    {
     "cell_type": "markdown",
     "metadata": {},
     "source": [
      "## Part 4: Interpretation. What words best predict a fresh or rotten review?\n",
      "\n",
      "**4.1**\n",
      "Using your classifier and the `vectorizer.get_feature_names` method, determine which words best predict a positive or negative review. Print the 10 words\n",
      "that best predict a \"fresh\" review, and the 10 words that best predict a \"rotten\" review. For each word, what is the model's probability of freshness if the word appears one time?\n",
      "\n",
      "#### Hints\n",
      "\n",
      "* Try computing the classification probability for a feature vector which consists of all 0s, except for a single 1. What does this probability refer to?\n",
      "\n",
      "* `np.eye` generates a matrix where the ith row is all 0s, except for the ith column which is 1."
     ]
    },
    {
     "cell_type": "code",
     "collapsed": false,
     "input": [
      "words = vectorizer3.get_feature_names()\n",
      "\n",
      "# make identity matrix with dimensions according to number of words\n",
      "num_rows = len(words)   \n",
      "eye = np.eye(num_rows)\n",
      "eye_prob = clf3.predict_proba(eye)\n",
      "eye_prob = eye_prob.tolist()\n",
      "eye_fresh = [k[1] for k in eye_prob]\n",
      "eye_rot = [k[0] for k in eye_prob]\n",
      "    \n",
      "df_words= pd.DataFrame({'words': words, 'fresh_prob': eye_fresh, 'eye_rot': eye_rot})\n",
      "df_words = df_words.sort_index(by='fresh_prob')"
     ],
     "language": "python",
     "metadata": {},
     "outputs": [],
     "prompt_number": 27
    },
    {
     "cell_type": "code",
     "collapsed": false,
     "input": [
      "# top 10 fresh review predictor words\n",
      "df_words.tail(10)"
     ],
     "language": "python",
     "metadata": {},
     "outputs": [
      {
       "html": [
        "<div style=\"max-height:1000px;max-width:1500px;overflow:auto;\">\n",
        "<table border=\"1\" class=\"dataframe\">\n",
        "  <thead>\n",
        "    <tr style=\"text-align: right;\">\n",
        "      <th></th>\n",
        "      <th>eye_rot</th>\n",
        "      <th>fresh_prob</th>\n",
        "      <th>words</th>\n",
        "    </tr>\n",
        "  </thead>\n",
        "  <tbody>\n",
        "    <tr>\n",
        "      <th>184</th>\n",
        "      <td> 0.221267</td>\n",
        "      <td> 0.778733</td>\n",
        "      <td>            us</td>\n",
        "    </tr>\n",
        "    <tr>\n",
        "      <th>70 </th>\n",
        "      <td> 0.218529</td>\n",
        "      <td> 0.781471</td>\n",
        "      <td>         great</td>\n",
        "    </tr>\n",
        "    <tr>\n",
        "      <th>8  </th>\n",
        "      <td> 0.215048</td>\n",
        "      <td> 0.784952</td>\n",
        "      <td>      american</td>\n",
        "    </tr>\n",
        "    <tr>\n",
        "      <th>138</th>\n",
        "      <td> 0.214236</td>\n",
        "      <td> 0.785764</td>\n",
        "      <td>  performances</td>\n",
        "    </tr>\n",
        "    <tr>\n",
        "      <th>137</th>\n",
        "      <td> 0.206403</td>\n",
        "      <td> 0.793597</td>\n",
        "      <td>   performance</td>\n",
        "    </tr>\n",
        "    <tr>\n",
        "      <th>23 </th>\n",
        "      <td> 0.184670</td>\n",
        "      <td> 0.815330</td>\n",
        "      <td>          best</td>\n",
        "    </tr>\n",
        "    <tr>\n",
        "      <th>204</th>\n",
        "      <td> 0.157985</td>\n",
        "      <td> 0.842015</td>\n",
        "      <td>         years</td>\n",
        "    </tr>\n",
        "    <tr>\n",
        "      <th>65 </th>\n",
        "      <td> 0.157985</td>\n",
        "      <td> 0.842015</td>\n",
        "      <td>           fun</td>\n",
        "    </tr>\n",
        "    <tr>\n",
        "      <th>50 </th>\n",
        "      <td> 0.123580</td>\n",
        "      <td> 0.876420</td>\n",
        "      <td>  entertaining</td>\n",
        "    </tr>\n",
        "    <tr>\n",
        "      <th>51 </th>\n",
        "      <td> 0.084521</td>\n",
        "      <td> 0.915479</td>\n",
        "      <td> entertainment</td>\n",
        "    </tr>\n",
        "  </tbody>\n",
        "</table>\n",
        "</div>"
       ],
       "metadata": {},
       "output_type": "pyout",
       "prompt_number": 28,
       "text": [
        "      eye_rot  fresh_prob          words\n",
        "184  0.221267    0.778733             us\n",
        "70   0.218529    0.781471          great\n",
        "8    0.215048    0.784952       american\n",
        "138  0.214236    0.785764   performances\n",
        "137  0.206403    0.793597    performance\n",
        "23   0.184670    0.815330           best\n",
        "204  0.157985    0.842015          years\n",
        "65   0.157985    0.842015            fun\n",
        "50   0.123580    0.876420   entertaining\n",
        "51   0.084521    0.915479  entertainment"
       ]
      }
     ],
     "prompt_number": 28
    },
    {
     "cell_type": "code",
     "collapsed": false,
     "input": [
      "# top 10 rotten review predictor words\n",
      "df_words.head(10)"
     ],
     "language": "python",
     "metadata": {},
     "outputs": [
      {
       "html": [
        "<div style=\"max-height:1000px;max-width:1500px;overflow:auto;\">\n",
        "<table border=\"1\" class=\"dataframe\">\n",
        "  <thead>\n",
        "    <tr style=\"text-align: right;\">\n",
        "      <th></th>\n",
        "      <th>eye_rot</th>\n",
        "      <th>fresh_prob</th>\n",
        "      <th>words</th>\n",
        "    </tr>\n",
        "  </thead>\n",
        "  <tbody>\n",
        "    <tr>\n",
        "      <th>144</th>\n",
        "      <td> 0.684236</td>\n",
        "      <td> 0.315764</td>\n",
        "      <td>  really</td>\n",
        "    </tr>\n",
        "    <tr>\n",
        "      <th>181</th>\n",
        "      <td> 0.682628</td>\n",
        "      <td> 0.317372</td>\n",
        "      <td>     too</td>\n",
        "    </tr>\n",
        "    <tr>\n",
        "      <th>89 </th>\n",
        "      <td> 0.659728</td>\n",
        "      <td> 0.340272</td>\n",
        "      <td>     isn</td>\n",
        "    </tr>\n",
        "    <tr>\n",
        "      <th>17 </th>\n",
        "      <td> 0.652994</td>\n",
        "      <td> 0.347006</td>\n",
        "      <td>     bad</td>\n",
        "    </tr>\n",
        "    <tr>\n",
        "      <th>140</th>\n",
        "      <td> 0.631691</td>\n",
        "      <td> 0.368309</td>\n",
        "      <td>    plot</td>\n",
        "    </tr>\n",
        "    <tr>\n",
        "      <th>116</th>\n",
        "      <td> 0.601601</td>\n",
        "      <td> 0.398399</td>\n",
        "      <td>    much</td>\n",
        "    </tr>\n",
        "    <tr>\n",
        "      <th>109</th>\n",
        "      <td> 0.595991</td>\n",
        "      <td> 0.404009</td>\n",
        "      <td>   might</td>\n",
        "    </tr>\n",
        "    <tr>\n",
        "      <th>45 </th>\n",
        "      <td> 0.587085</td>\n",
        "      <td> 0.412915</td>\n",
        "      <td>    down</td>\n",
        "    </tr>\n",
        "    <tr>\n",
        "      <th>121</th>\n",
        "      <td> 0.585071</td>\n",
        "      <td> 0.414929</td>\n",
        "      <td> nothing</td>\n",
        "    </tr>\n",
        "    <tr>\n",
        "      <th>157</th>\n",
        "      <td> 0.582207</td>\n",
        "      <td> 0.417793</td>\n",
        "      <td> special</td>\n",
        "    </tr>\n",
        "  </tbody>\n",
        "</table>\n",
        "</div>"
       ],
       "metadata": {},
       "output_type": "pyout",
       "prompt_number": 29,
       "text": [
        "      eye_rot  fresh_prob    words\n",
        "144  0.684236    0.315764   really\n",
        "181  0.682628    0.317372      too\n",
        "89   0.659728    0.340272      isn\n",
        "17   0.652994    0.347006      bad\n",
        "140  0.631691    0.368309     plot\n",
        "116  0.601601    0.398399     much\n",
        "109  0.595991    0.404009    might\n",
        "45   0.587085    0.412915     down\n",
        "121  0.585071    0.414929  nothing\n",
        "157  0.582207    0.417793  special"
       ]
      }
     ],
     "prompt_number": 29
    },
    {
     "cell_type": "markdown",
     "metadata": {},
     "source": [
      "**4.2**\n",
      "\n",
      "One of the best sources for inspiration when trying to improve a model is to look at examples where the model performs poorly. \n",
      "\n",
      "Find 5 fresh and rotten reviews where your model performs particularly poorly. Print each review."
     ]
    },
    {
     "cell_type": "code",
     "collapsed": false,
     "input": [
      "fresh_list = df_words['words'][-10:]\n",
      "fresh_list = fresh_list.tolist()\n",
      "\n",
      "rot_list = df_words['words'][:10]\n",
      "rot_list = rot_list.tolist()\n",
      "\n",
      "# find 5 inconsistencies\n",
      "cur_bad=1\n",
      "for index, row in critics.iterrows():\n",
      "    if row['fresh'] == 'fresh' and cur_bad<=5:\n",
      "        for z in rot_list:  \n",
      "            if z in row['quote']:\n",
      "                print row\n",
      "                cur_bad+=1\n",
      "                break\n",
      "      \n"
     ],
     "language": "python",
     "metadata": {},
     "outputs": [
      {
       "output_type": "stream",
       "stream": "stdout",
       "text": [
        "critic                                             Kenneth Turan\n",
        "fresh                                                      fresh\n",
        "imdb                                                      114709\n",
        "publication                                    Los Angeles Times\n",
        "quote          Although its computer-generated imagery is imp...\n",
        "review_date                                           2001-02-13\n",
        "rtid                                                        9559\n",
        "title                                                  Toy story\n",
        "Name: 9, dtype: object\n",
        "critic                                                John Hartl\n",
        "fresh                                                      fresh\n",
        "imdb                                                      114709\n",
        "publication                                             Film.com\n",
        "quote          Disney's witty, wondrously imaginative, all-co...\n",
        "review_date                                           2000-01-01\n",
        "rtid                                                        9559\n",
        "title                                                  Toy story\n",
        "Name: 12, dtype: object\n",
        "critic                                               Susan Stark\n",
        "fresh                                                      fresh\n",
        "imdb                                                      114709\n",
        "publication                                         Detroit News\n",
        "quote          Disney's first computer-made animated feature ...\n",
        "review_date                                           2000-01-01\n",
        "rtid                                                        9559\n",
        "title                                                  Toy story\n",
        "Name: 13, dtype: object\n",
        "critic                                               Peter Stack\n",
        "fresh                                                      fresh\n",
        "imdb                                                      114709\n",
        "publication                              San Francisco Chronicle\n",
        "quote          The script, by Lasseter, Pete Docter, Andrew S...\n",
        "review_date                                           2000-01-01\n",
        "rtid                                                        9559\n",
        "title                                                  Toy story\n",
        "Name: 14, dtype: object\n",
        "critic                                        James Berardinelli\n",
        "fresh                                                      fresh\n",
        "imdb                                                      114709\n",
        "publication                                            ReelViews\n",
        "quote          The one big negative about Toy Story involves ...\n",
        "review_date                                           2000-01-01\n",
        "rtid                                                        9559\n",
        "title                                                  Toy story\n",
        "Name: 15, dtype: object\n"
       ]
      }
     ],
     "prompt_number": 30
    },
    {
     "cell_type": "markdown",
     "metadata": {},
     "source": [
      "**4.3** What do you notice about these mis-predictions? Naive Bayes classifiers assume that every word affects the probability independently of other words. In what way is this a bad assumption? In your answer, report your classifier's Freshness probability for the review \"This movie is not remarkable, touching, or superb in any way\"."
     ]
    },
    {
     "cell_type": "code",
     "collapsed": false,
     "input": [
      "# analyzing example sentence\n",
      "sentence = ['This movie is not remarkable, touching, or superb in any way']\n",
      "\n",
      "X5 = vectorizer3.transform(sentence)\n",
      "\n",
      "clf3.predict_proba(X5)"
     ],
     "language": "python",
     "metadata": {},
     "outputs": [
      {
       "metadata": {},
       "output_type": "pyout",
       "prompt_number": 31,
       "text": [
        "array([[ 0.51210355,  0.48789645]])"
       ]
      }
     ],
     "prompt_number": 31
    },
    {
     "cell_type": "markdown",
     "metadata": {},
     "source": [
      "**Because the classifiers assumes independence, it doesn't account for phrases like \"not bland\" in which case it's meant to convey the opposite message of what bland normally signifies. Additionally, it doesn't account for negative or positive words that might not be in reference to the quality of the movie itself, like \"the trailers were terrible.\" Since the English language allows for huge variability in meaning based on various COMBINATIONS of words, it is a bad assumption that each independently contributes to \"freshness probability.\" In other words, it's ineffective to assume complete independence of words because groups of words are not equivalent to the individual words themselves and have different meaning based on context. Thus, there inevitably will be exceptions. As can be seen above, the classifier predicts that the sentence \"This movie is not remarkable, touching, or superb in any way\" has a 99.96% probability of being a fresh review. To a human, this is obviously a negative review, however since it contains several positive words that have strong fresh-predicting probabilities, the classifier assumes positivity. This demonstrates how the classisfier can fail because it ignores context**"
     ]
    },
    {
     "cell_type": "markdown",
     "metadata": {},
     "source": [
      "**4.4**\n",
      "If this was your final project, what are 3 things you would try in order to build a more effective review classifier? What other exploratory or explanatory visualizations do you think might be helpful?"
     ]
    },
    {
     "cell_type": "markdown",
     "metadata": {},
     "source": [
      "** 1) To build a more effective classifier, one could take into account pairings of words when transforming the classifier.For example, one could build a list of \"contradictory words\" such as \"not\", \"hardly\", and \"never\" and check if they are paired with the word being analyzed. If they are, the word should be considered towards the opposite \"freshness\" from what it independently predicts. **\n",
      "\n",
      "** 2) Another way to build make the classifier more effective is retrain your classifiers to adjust in response to misprediction. After you train and transform your orginal data, you could isolate all the mispredictions. Then you could throw out all words with freshness probabilities above or below a certain threshold if the prediction probability for that particular word is inconsistent with the actual result.For example, look at a review like that has a very high freshness probability but received a rotten rating. Then eliminate the words within that review that have individual freshness probabilities about 95%. Do this for all mis-predictive results. Then, re-fit and re-transform your classfier with the adjusted data. That way, you will be giving more accurate predictions for reviews that have contradictory results without reducing the predictiveness of the words within them. Since you are only looking at highly mis-predictive reviews and the highly mis-predictive words within them, you  will only be making small adjustments to your classifier and thus will not completely throw off the general trends that it observes. **\n",
      "\n",
      "** 3) Finally, you could improve the classifier by testing it on several different training sets and isolate and eliminate elements of if that point to strong inconsistencies among these sets. Another approach that is also along these lines, would be to run several different classfiers (trained and fit based on different methods) on the same training and test sets, and compare inconsistencies between these.**\n",
      "\n",
      "**A scatter plot of the results from the various different implementations of the classifier on the same plot with different colors would be a useful visualization which would help show how the probabilities change. All of these could be plotted against the observed results (like was done above). Additionally histograms would effectively show how the distributions vary.**\n"
     ]
    },
    {
     "cell_type": "markdown",
     "metadata": {},
     "source": [
      "### How to Submit\n",
      "\n",
      "Restart and run your notebook one last time, to make sure the output from each cell is up to date. To submit your homework, create a folder named lastname_firstinitial_hw3 and place your solutions in the folder. Double check that the file is still called HW3.ipynb, and that it contains your code. Please do **not** include the critics.csv data file, if you created one. Compress the folder (please use .zip compression) and submit to the CS109 dropbox in the appropriate folder. If we cannot access your work because these directions are not followed correctly, we will not grade your work!"
     ]
    },
    {
     "cell_type": "markdown",
     "metadata": {},
     "source": [
      "---\n",
      "*css tweaks in this cell*\n",
      "<style>\n",
      "div.text_cell_render {\n",
      "    line-height: 150%;\n",
      "    font-size: 110%;\n",
      "    width: 800px;\n",
      "    margin-left:50px;\n",
      "    margin-right:auto;\n",
      "    }\n",
      "</style>"
     ]
    }
   ],
   "metadata": {}
  }
 ]
}